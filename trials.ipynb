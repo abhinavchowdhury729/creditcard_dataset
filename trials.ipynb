{
 "cells": [
  {
   "cell_type": "code",
   "execution_count": 1,
   "metadata": {},
   "outputs": [],
   "source": [
    "import pandas as pd\n",
    "import spacy\n",
    "nlp = spacy.load(\"en_core_web_sm\")"
   ]
  },
  {
   "cell_type": "code",
   "execution_count": 2,
   "metadata": {},
   "outputs": [],
   "source": [
    "df = pd.read_csv(\"b1.csv\")\n",
    "df[\"Sentences\"] = df.Sentences.apply(lambda x:x.lstrip().replace(\";\", \",\"))"
   ]
  },
  {
   "cell_type": "code",
   "execution_count": 3,
   "metadata": {},
   "outputs": [
    {
     "data": {
      "text/plain": [
       "0     I love my new Nike sneakers, they're so comfor...\n",
       "1     McDonald's is my go-to place for a quick burge...\n",
       "2     I need to buy some new Apple products, their l...\n",
       "3     Coca-Cola is my favorite soft drink, nothing b...\n",
       "4     I always buy my groceries from Walmart, they h...\n",
       "                            ...                        \n",
       "95    I love the taste of Blue Bell frozen yogurt, i...\n",
       "96    I always buy my groceries from Safeway, they h...\n",
       "97    I recently switched to using Gain laundry dete...\n",
       "98    I'm a loyal customer of Disney+, I love watchi...\n",
       "99    I need to get a new pair of Brooks sneakers, t...\n",
       "Name: Sentences, Length: 100, dtype: object"
      ]
     },
     "execution_count": 3,
     "metadata": {},
     "output_type": "execute_result"
    }
   ],
   "source": [
    "df.Sentences"
   ]
  },
  {
   "cell_type": "code",
   "execution_count": 4,
   "metadata": {},
   "outputs": [
    {
     "name": "stdout",
     "output_type": "stream",
     "text": [
      "Nike ORG\n"
     ]
    }
   ],
   "source": [
    "doc = nlp(df.Sentences.iloc[0])\n",
    "\n",
    "# Iterate through entities and print their text and label\n",
    "for entity in doc.ents:\n",
    "  print(entity.text, entity.label_)"
   ]
  },
  {
   "cell_type": "code",
   "execution_count": 5,
   "metadata": {},
   "outputs": [
    {
     "data": {
      "text/plain": [
       "(Nike,)"
      ]
     },
     "execution_count": 5,
     "metadata": {},
     "output_type": "execute_result"
    }
   ],
   "source": [
    "doc.ents"
   ]
  },
  {
   "cell_type": "code",
   "execution_count": null,
   "metadata": {},
   "outputs": [],
   "source": []
  }
 ],
 "metadata": {
  "kernelspec": {
   "display_name": "llmExpts",
   "language": "python",
   "name": "python3"
  },
  "language_info": {
   "codemirror_mode": {
    "name": "ipython",
    "version": 3
   },
   "file_extension": ".py",
   "mimetype": "text/x-python",
   "name": "python",
   "nbconvert_exporter": "python",
   "pygments_lexer": "ipython3",
   "version": "3.9.19"
  },
  "orig_nbformat": 4
 },
 "nbformat": 4,
 "nbformat_minor": 2
}
